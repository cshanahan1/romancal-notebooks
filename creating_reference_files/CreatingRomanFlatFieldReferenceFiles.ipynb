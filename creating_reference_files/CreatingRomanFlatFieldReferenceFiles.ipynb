{
 "cells": [
  {
   "cell_type": "markdown",
   "id": "2999a41b",
   "metadata": {},
   "source": [
    "This tutorial illustrates how to create a Roman Flat Field reference file from scratch or from an existing example.\n",
    "=========================================================="
   ]
  },
  {
   "cell_type": "code",
   "execution_count": null,
   "id": "ff0ce250",
   "metadata": {},
   "outputs": [],
   "source": [
    "import roman_datamodels.datamodels as rdd\n",
    "import roman_datamodels.stnode as rds\n",
    "import numpy as np\n",
    "import asdf\n",
    "from astropy.time import Time"
   ]
  },
  {
   "cell_type": "markdown",
   "id": "937947b4",
   "metadata": {},
   "source": [
    "All Roman Datamodels are built from particular types of objects. \n",
    "Using these is require as it supports the validation machinery \n",
    "that ensures that the particular type of file meets the specified requirements.\n",
    "These requirements are defined in the schema files associated with each\n",
    "data model. Normally, unless you are responsible for defining a new kind\n",
    "of file, you will not need to look at the contents of the schema files.\n",
    "However, if you construct the contents of such a data model that are\n",
    "inconsistent with the schemas, you will get error messages when trying\n",
    "to create or save the reference file. Consider this a good thing.\n",
    "\n",
    "**Note: there are changes planned for the Flat Field Reference file content. The content of this tutorial will be updated when those changes are implemented**"
   ]
  },
  {
   "cell_type": "markdown",
   "id": "d59335a2",
   "metadata": {},
   "source": [
    "The first step in building one from scratch is to construct it from the bottom up. For the flat field there are a few things to construct. All the data models have a meta item. We start by creating it as Python dictionary that we will populate with the needed information. The creation below begins with items that are always the same for a flat field."
   ]
  },
  {
   "cell_type": "code",
   "execution_count": null,
   "id": "15b0149b",
   "metadata": {},
   "outputs": [],
   "source": [
    "meta = {'telescope': 'ROMAN', 'reftype': 'FLAT'}\n",
    "# Create the information about instrument configuration for this flat field.\n",
    "# The first item is always the same, but the others depend on the particular flat field\n",
    "instrument = {'name': 'WFI', 'detector': 'WFI01', 'optical_element': 'F129'}\n",
    "meta['instrument'] = instrument\n",
    "# All the rest of these must be provided by the person who has constructed the flat field\n",
    "meta['pedigree'] = \"\"\"whatever text you wish to describe the pedigree\n",
    "    and it may go on and on and on and on and on and on\n",
    "    and on and on and on and on and on\n",
    "    and on and on, to your heart's content\"\"\"\n",
    "meta['description'] = \"whatever description you wish to provide\"\n",
    "meta['author'] = 'Wally Wombat'\n",
    "meta['useafter'] = Time('2022-01-01T11:11:11.111') # the good old useafter date"
   ]
  },
  {
   "cell_type": "markdown",
   "id": "bfbbe217",
   "metadata": {},
   "source": [
    "Note that the pedigree and description values may be as long as you wish, book length if you so desire.\n",
    "\n",
    "Now we will construct the main data model object."
   ]
  },
  {
   "cell_type": "code",
   "execution_count": null,
   "id": "cbc93e22",
   "metadata": {},
   "outputs": [],
   "source": [
    "flat = rds.FlatRef()\n",
    "flat['meta'] = meta\n",
    "flat['data'] = np.ones((4096, 4096), dtype=np.float32) # You will supply a real flat, of course\n",
    "flat['dq'] = np.zeros((4096, 4096), dtype=np.uint32) # likewise (this will soon be changed to uint16)\n",
    "flat['err'] = np.zeros((4096, 4096), dtype=np.float32) # likewise"
   ]
  },
  {
   "cell_type": "markdown",
   "id": "56f16ca3",
   "metadata": {},
   "source": [
    "Now we will construct an ASDF file and save it using these contents."
   ]
  },
  {
   "cell_type": "code",
   "execution_count": null,
   "id": "4c5e3aa9",
   "metadata": {},
   "outputs": [],
   "source": [
    "af = asdf.AsdfFile()\n",
    "af.tree = {'roman': flat}\n",
    "af.write_to('my_first_flat.asdf')"
   ]
  },
  {
   "cell_type": "markdown",
   "id": "e148e4e8",
   "metadata": {},
   "source": [
    "To see what happens when we don't follow the rules, we will try the same with a few illegal variants."
   ]
  },
  {
   "cell_type": "code",
   "execution_count": null,
   "id": "ec23e08c",
   "metadata": {},
   "outputs": [],
   "source": [
    "flat.meta.telescope = 'HST'"
   ]
  },
  {
   "cell_type": "markdown",
   "id": "5c549975",
   "metadata": {},
   "source": [
    "This is because the relevant schema requires ROMAN"
   ]
  },
  {
   "cell_type": "code",
   "execution_count": null,
   "id": "b73a3b84",
   "metadata": {},
   "outputs": [],
   "source": [
    "flat.data = np.arange(100)"
   ]
  },
  {
   "cell_type": "code",
   "execution_count": null,
   "id": "301a86b3",
   "metadata": {},
   "outputs": [],
   "source": [
    "af2 = asdf.AsdfFile()\n",
    "af2.tree = {'roman': flat}\n",
    "af2.write_to('bad_flat.asfd')"
   ]
  },
  {
   "cell_type": "markdown",
   "id": "d1c205c4",
   "metadata": {},
   "source": [
    "This error arises because the data array is the wrong numerical type and dimensionality.\n",
    "\n",
    "OK, let's try opening the file we successfully made."
   ]
  },
  {
   "cell_type": "code",
   "execution_count": null,
   "id": "65a5379b",
   "metadata": {},
   "outputs": [],
   "source": [
    "flatdm = rdd.open('my_first_flat.asdf')"
   ]
  },
  {
   "cell_type": "code",
   "execution_count": null,
   "id": "7e17da2e",
   "metadata": {},
   "outputs": [],
   "source": [
    "flatdm.meta"
   ]
  },
  {
   "cell_type": "code",
   "execution_count": null,
   "id": "6a7e3ccf",
   "metadata": {},
   "outputs": [],
   "source": [
    "flatdm.meta.telescope"
   ]
  },
  {
   "cell_type": "code",
   "execution_count": null,
   "id": "fb9a6dea",
   "metadata": {},
   "outputs": [],
   "source": [
    "flatdm.meta.instrument.optical_element"
   ]
  },
  {
   "cell_type": "code",
   "execution_count": null,
   "id": "7b709db0",
   "metadata": {},
   "outputs": [],
   "source": [
    "print(flatdm.meta.pedigree)"
   ]
  },
  {
   "cell_type": "markdown",
   "id": "d8400646",
   "metadata": {},
   "source": [
    "That is about the essence of it. One can script this easily if that is \n",
    "easier, particularly if many files are sharing much info (such as author,\n",
    "pedigree, description, etc).\n",
    "\n",
    "Note that the attribute 'dot' notation can be used after the model is \n",
    "defined, but not when creating new attributes, where instead the\n",
    "usual dictionary indexing notation must be used, as at the beginning\n",
    "when creating from scratch.\n",
    "\n",
    "The following illustrates that modifying an existing file and writing it out is even simpler."
   ]
  },
  {
   "cell_type": "code",
   "execution_count": null,
   "id": "a5810ae9",
   "metadata": {},
   "outputs": [],
   "source": [
    "instrument['detector'] = 'WFI02'\n",
    "instrument['optical_element'] = 'F062'\n",
    "flatdm.meta.instrument = instrument\n",
    "flatdm.save('my_second_flat.asdf')\n"
   ]
  },
  {
   "cell_type": "markdown",
   "id": "5f133378",
   "metadata": {},
   "source": [
    "There is currently a limitation on assigning model attributes more than\n",
    "one layer lower than the schema they are defined in, but that will be\n",
    "rectified in the near future."
   ]
  },
  {
   "cell_type": "code",
   "execution_count": null,
   "id": "7671107e",
   "metadata": {},
   "outputs": [],
   "source": []
  }
 ],
 "metadata": {
  "kernelspec": {
   "display_name": "Python 3",
   "language": "python",
   "name": "python3"
  },
  "language_info": {
   "codemirror_mode": {
    "name": "ipython",
    "version": 3
   },
   "file_extension": ".py",
   "mimetype": "text/x-python",
   "name": "python",
   "nbconvert_exporter": "python",
   "pygments_lexer": "ipython3",
   "version": "3.8.5"
  }
 },
 "nbformat": 4,
 "nbformat_minor": 5
}
