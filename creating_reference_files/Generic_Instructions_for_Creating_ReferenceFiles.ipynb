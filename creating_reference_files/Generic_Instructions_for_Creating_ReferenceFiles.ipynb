{
 "cells": [
  {
   "cell_type": "markdown",
   "id": "f79e8d05",
   "metadata": {},
   "source": [
    "Generic Instructions for Creating  New Reference Files\n",
    "=======================================\n",
    "\n",
    "Tutorial Approach\n",
    "---------------------\n",
    "\n",
    "We recommend that you review the tutorial for creating Flat Field Reference files \n",
    "before doing this one.\n",
    "\n",
    "Rather than create a tutorial for each specific kind of reference file, this\n",
    "tutorial will show how to use either the schema for that reference file as a \n",
    "guide, or a simplified representation of the schema (the latter should be much\n",
    "easier, and such information will be added to this tutorial as new reference \n",
    "file types are added.\n",
    "\n",
    "This tutorial will use a few examples of how to do this,\n",
    "and we expect that it will illustrate how to do the same for any reference file type.\n",
    "More than one example is necessary since no particular one addresses all the \n",
    "various aspects one may encounter.\n",
    "\n",
    "First, common elements to all reference files. All reference files have a meta\n",
    "attribute, so one may do the following for all cases"
   ]
  },
  {
   "cell_type": "code",
   "execution_count": null,
   "id": "b2890d2b",
   "metadata": {},
   "outputs": [],
   "source": [
    "import roman_datamodels.datamodels as rdd\n",
    "import roman_datamodels.stnode as rds\n",
    "import numpy as np\n",
    "import asdf\n",
    "from astropy.time import Time\n",
    "# create meta dictionary and populate with common elements\n",
    "meta = {'telescope': 'ROMAN', 'reftype': '<the expected value for this refernece file>'}\n",
    "# Create the information about instrument configuration for this flat field.\n",
    "# The first item is always the same, but the others depend on the particular flat field\n",
    "instrument = {'name': 'WFI', 'detector': 'WFI01', 'optical_element': 'F129'}\n",
    "meta['instrument'] = instrument\n",
    "# All the rest of these must be provided by the person who has constructed the flat field\n",
    "meta['pedigree'] = \"\"\"whatever text you wish to describe the pedigree\n",
    "    and it may go on and on and on and on and on and on\n",
    "    and on and on and on and on and on\n",
    "    and on and on, to your heart's content\"\"\"\n",
    "meta['description'] = \"whatever description you wish to provide\"\n",
    "meta['author'] = 'Wally Wombat'\n",
    "meta['useafter'] = Time('2022-01-01T11:11:11.111') # the good old useafter date\n",
    "meta['origin'] = 'STScI'\n",
    "meta['telescope'] = 'ROMAN'"
   ]
  },
  {
   "cell_type": "markdown",
   "id": "f5fcd340",
   "metadata": {},
   "source": [
    "At this point create the object corresponding to the reference file type. For flat fields it would be FlatRef. Generally speaking the Class name is derived from the schema name. For examples (including the required value of reftype:\n",
    "\n",
    "| Reference Name | Class Name | reftype value |\n",
    "| :- | :- | :- |\n",
    "| dark | DarkRef | DARK |\n",
    "| flat | FlatRef | FLAT |\n",
    "| gain | GainRef | GAIN |\n",
    "| mask | MaskRef | MASK |\n",
    "| readnoise | ReadnoiseRef | READNOISE |\n"
   ]
  },
  {
   "cell_type": "markdown",
   "id": "62a435a1",
   "metadata": {},
   "source": [
    "Handling dq_def\n",
    "-------------------\n",
    "\n",
    "Many, if not most reference files currently expect a definition of which\n",
    "data quality items they use in their own DQ array. This is handled by the\n",
    "`dq_def` item, which essentially identifies which bit plane in the reference\n",
    "file DQ array is associated with the standard data file DQ mnemonic. (In \n",
    "reading in the reference file DQ array, the calibration step maps the DQ\n",
    "array bit planes into a full blown DQ array used by the calibration data.)\n",
    "This is done to reduce the number of bits needed by the reference file DQ \n",
    "array (e.g., the byte size of each pixel in the DQ array).\n",
    "\n",
    "The following illustrates how to create the `dq_def` item. Since the details\n",
    "are not documented anywhere except by the `dq_def` item itself, this tutorial\n",
    "cannot tell one which DQ mnemonics must be defined. This is up to each\n",
    "instrument team. The example is a made up one and does not correspond to the\n",
    "one that must be defined for any particular reference file type.\n",
    "\n",
    "Complicating this example is that Roman has not yet come up with a definitive\n",
    "list of mnemonics. This tutorial will use some basic ones that very likely \n",
    "will be present.\n",
    "\n",
    "The dq_def item is a table consisting of four columns:\n",
    "\n",
    "- Bit number (starting at 0)\n",
    "- Bit value (e.g., 1, 2, 4, 8, etc)\n",
    "- Bit name (i.e., the standard mnemonic), maximum of 40 characters\n",
    "- Bit description, maximum of 80 characters\n",
    "\n",
    "We will construct an example of such a table using numpy using the mnemonics of:\n",
    "\n",
    "- DO_NOT_USE\n",
    "- DEAD\n",
    "- HOT"
   ]
  },
  {
   "cell_type": "code",
   "execution_count": null,
   "id": "52f32e62",
   "metadata": {},
   "outputs": [],
   "source": [
    "dq_def = np.array([\n",
    "    (0, 1, 'DO_NOT_USE', 'Bad pixel. Do not use'),\n",
    "    (1, 2, 'DEAD', 'Dead pixel'),\n",
    "    (2, 4, 'HOT', 'Hot pixel')\n",
    "    ], dtype=[('BIT', np.int32), ('VALUE', np.uint32), ('NAME', 'S40'), ('DESCRIPTION', 'S80')])"
   ]
  },
  {
   "cell_type": "code",
   "execution_count": null,
   "id": "b2b3f104",
   "metadata": {},
   "outputs": [],
   "source": [
    "dq_def"
   ]
  },
  {
   "cell_type": "markdown",
   "id": "16fe193f",
   "metadata": {},
   "source": [
    "Handling reference file specific attributes. Check this notebook for the current set of expected attributes for each reference file type: [Reference Files Specifics](./ReferenceFile_Required_Attributes.ipynb). To take as an example making a mask reference file. This requires only one more attribute, the actual DQ array. In this case it will be all 0's."
   ]
  },
  {
   "cell_type": "code",
   "execution_count": null,
   "id": "6e8fb759",
   "metadata": {},
   "outputs": [],
   "source": [
    "meta['reftype'] = 'MASK'\n",
    "mask = rds.MaskRef()\n",
    "mask['meta'] = meta\n",
    "mask['dq_def'] = dq_def\n",
    "mask['dq'] = np.zeros((100,100), dtype=np.uint16) # whatever shape is appropriate\n",
    "af = asdf.AsdfFile()\n",
    "af.tree = {'roman': mask}\n",
    "af.write_to('my_maskref.asdf')"
   ]
  },
  {
   "cell_type": "markdown",
   "id": "3d1b0dc1",
   "metadata": {},
   "source": [
    "Check the new file"
   ]
  },
  {
   "cell_type": "code",
   "execution_count": null,
   "id": "9164a48e",
   "metadata": {},
   "outputs": [],
   "source": [
    "mask2 = rdd.open('my_maskref.asdf')"
   ]
  },
  {
   "cell_type": "code",
   "execution_count": null,
   "id": "6339ae18",
   "metadata": {},
   "outputs": [],
   "source": [
    "type(mask2)"
   ]
  },
  {
   "cell_type": "code",
   "execution_count": null,
   "id": "0eb9752e",
   "metadata": {},
   "outputs": [],
   "source": [
    "mask2.meta"
   ]
  },
  {
   "cell_type": "code",
   "execution_count": null,
   "id": "74c06566",
   "metadata": {},
   "outputs": [],
   "source": [
    "mask2.dq_def"
   ]
  },
  {
   "cell_type": "code",
   "execution_count": null,
   "id": "fba7a7bf",
   "metadata": {},
   "outputs": [],
   "source": [
    "mask2.dq.shape"
   ]
  },
  {
   "cell_type": "code",
   "execution_count": null,
   "id": "6136ae01",
   "metadata": {},
   "outputs": [],
   "source": []
  }
 ],
 "metadata": {
  "kernelspec": {
   "display_name": "Python 3",
   "language": "python",
   "name": "python3"
  },
  "language_info": {
   "codemirror_mode": {
    "name": "ipython",
    "version": 3
   },
   "file_extension": ".py",
   "mimetype": "text/x-python",
   "name": "python",
   "nbconvert_exporter": "python",
   "pygments_lexer": "ipython3",
   "version": "3.8.5"
  }
 },
 "nbformat": 4,
 "nbformat_minor": 5
}
