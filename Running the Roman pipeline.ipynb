{
 "cells": [
  {
   "cell_type": "markdown",
   "id": "a8377480",
   "metadata": {},
   "source": [
    "## Running the Roman pipeline\n",
    "\n",
    "### Pipeline installation\n",
    "\n",
    "#### CRDS Setup\n",
    "\n",
    "\n",
    "```\n",
    "export CRDS_PATH=$HOME/crds_cache\n",
    "export CRDS_SERVER_URL=https://roman-crds-test.stsci.edu\n",
    "```\n",
    "\n",
    "#### Install a public release of the pipeline\n",
    "\n",
    "This section describes installation of a released version of the pipeline.\n",
    "\n",
    "Create a new conda environment, called \"roman-test\".\n",
    "(Caution Note: You need to be in zsh or bash. The new environment will inherit the current one. That means that if you are in the base conda environment and there are packages in it they will be available in the new environment unless you reinstall them there. This is generally bad because Python will also load packages from that base environment. A case, which is often a source for consfusion, is when ipython is not installed in the new environment but is available in the base one. Starting ipython owrks and loading a package may work but this package is imported from the base env and most often is a version different from what's desired.)\n",
    "\n",
    "```\n",
    "% conda create -n roman-test python=3.9\n",
    "```\n",
    "\n",
    "Activate the environment and install ipython and numpy\n",
    "\n",
    "```\n",
    "% conda activate roman-test\n",
    "% pip install jupyter\n",
    "% pip install numpy\n",
    "```\n",
    "\n",
    "Install the pipeline. The correct versions of the dependencies will be pulled in.\n",
    "\n",
    "```\n",
    "% pip install romancal\n",
    "```\n",
    "\n",
    "\n",
    "We are ready to run the pipeline.\n",
    "\n",
    "#### Install a development version of the pipeline\n",
    "\n",
    "This section describes installation of the `main` branch of the github repository.\n",
    "\n",
    "Create a new conda environment, called \"roman-dev\".\n",
    "\n",
    "```\n",
    "% conda create -n roman-dev python=3.9\n",
    "```\n",
    "\n",
    "Activate the environment and install ipython and numpy\n",
    "\n",
    "```\n",
    "% conda activate roman-dev\n",
    "% pip install jupyter\n",
    "% pip install numpy\n",
    "```\n",
    "\n",
    "Install the pipeline\n",
    "\n",
    "```\n",
    "pip install git+https://github.com/spacetelescope/romancal\n",
    "```\n",
    "### Code development\n",
    "\n",
    "There are several packages which are concurrently developed to support the Roman pipeline calibrations.\n",
    "Some are shared with the JWST pipeline.\n",
    "\n",
    "- rad: Roman schemas\n",
    "\n",
    "https://github.com/spacetelescope/rad\n",
    "\n",
    "- roman_datamodels: Datamodels for Roman data products\n",
    "\n",
    "https://github.com/spacetelescope/roman_datamodels\n",
    "\n",
    "- stpipe: Pipeline runner (shared with jwst)\n",
    "\n",
    "https://github.com/spacetelescope/stpipe\n",
    "\n",
    "- stcal: Core algorithms used in the pipeline (shared with jwst)\n",
    "\n",
    "https://github.com/spacetelescope/stcal\n",
    "\n",
    "- romancal: The actual pipeline code\n",
    "https://github.com/spacetelescope/romancal\n",
    "\n",
    "Installing romancal installs all its dependencies automatically.\n",
    "\n",
    "### Opening a data file as a data model"
   ]
  },
  {
   "cell_type": "code",
   "execution_count": null,
   "id": "22bdae5d",
   "metadata": {},
   "outputs": [],
   "source": [
    "from roman_datamodels import datamodels as rdm\n",
    "\n",
    "level1_file = \"/grp/roman/scsb/build_0.3/l1_0004_science_raw.asdf\"\n",
    "data_model = rdm.open(level1_file)"
   ]
  },
  {
   "cell_type": "code",
   "execution_count": null,
   "id": "a0f7f250",
   "metadata": {},
   "outputs": [],
   "source": [
    "data_model"
   ]
  },
  {
   "cell_type": "markdown",
   "id": "37929602",
   "metadata": {},
   "source": [
    "This is a special data model. Science data formatting creates a Level1 (`ScienceRawModel`) file, which is the input to the pipeline. \n",
    "\n",
    "The first step in the pipeline, `dqinit` needs to convert this to a `RampModel`. Currently this is done within the step and is somewhat involved. \n",
    "\n",
    "`Question:` **Is there a need for a public method to do the conversion?**"
   ]
  },
  {
   "cell_type": "markdown",
   "id": "8e53709a",
   "metadata": {},
   "source": [
    "### Running a step using reference files in CRDS\n",
    "\n",
    "#### On the command line\n",
    "\n",
    "```\n",
    "strun romancal.step.FlatFieldStep <input_file>\n",
    "```\n",
    "\n",
    "This runs the flat field step and saves the output in the current directory. The file suffix is `flatfieldstep`.\n",
    "\n",
    "The original `rate` suffix is preserved. *This is something that needs to be fixed!*\n",
    "\n",
    "#### In the Python interpreter"
   ]
  },
  {
   "cell_type": "code",
   "execution_count": null,
   "id": "99d57663",
   "metadata": {},
   "outputs": [],
   "source": [
    "level2_file = \"/grp/roman/scsb/build_0.3/l2_0004_rate.asdf\""
   ]
  },
  {
   "cell_type": "code",
   "execution_count": null,
   "id": "242c8d0f",
   "metadata": {},
   "outputs": [],
   "source": [
    "from romancal.flatfield import FlatFieldStep\n",
    "\n",
    "result = FlatFieldStep.call(level2_file)"
   ]
  },
  {
   "cell_type": "markdown",
   "id": "bcc679b3",
   "metadata": {},
   "source": [
    "In this case the output `result` is an ImageModel and can be saved to file."
   ]
  },
  {
   "cell_type": "code",
   "execution_count": null,
   "id": "350e4f24",
   "metadata": {},
   "outputs": [],
   "source": [
    "print(result)"
   ]
  },
  {
   "cell_type": "code",
   "execution_count": null,
   "id": "a069b86e",
   "metadata": {},
   "outputs": [],
   "source": [
    "result.save('my_flat_fielded_image.asdf')"
   ]
  },
  {
   "cell_type": "markdown",
   "id": "57b81320",
   "metadata": {},
   "source": [
    "### Running a step with local reference files\n",
    "\n",
    "#### On the command line\n",
    "\n",
    "```\n",
    "strun romancal.step.FlatFieldStep <input_file> --override_flat=myflat.asdf\n",
    "```\n",
    "\n",
    "\n",
    "#### In the Python interpreter"
   ]
  },
  {
   "cell_type": "code",
   "execution_count": null,
   "id": "d2d8d7c5",
   "metadata": {},
   "outputs": [],
   "source": [
    "from romancal.flatfield import FlatFieldStep\n",
    "\n",
    "result = FlatFieldStep.call(level2_file, override_flat=\"flat.asdf\")"
   ]
  },
  {
   "cell_type": "markdown",
   "id": "73337b3d",
   "metadata": {},
   "source": [
    "In general, to run the pipeline from the interpreter and pass custom reference files, one needs to use an argument name \n",
    "\n",
    "`override_<reference_file_type>=<file_name>`\n",
    "\n",
    "On the command line the syntax is \n",
    "\n",
    "`--override_<reference_file_type>=<file_name>`\n",
    "\n",
    "To find out what reference types a step uses and their names:"
   ]
  },
  {
   "cell_type": "code",
   "execution_count": null,
   "id": "67278b01",
   "metadata": {},
   "outputs": [],
   "source": [
    "from romancal.step import *"
   ]
  },
  {
   "cell_type": "code",
   "execution_count": null,
   "id": "979d155f",
   "metadata": {},
   "outputs": [],
   "source": [
    "print(\"flat_field: \", FlatFieldStep.reference_file_types)\n",
    "print(\"dq_init: \", DQInitStep.reference_file_types)"
   ]
  },
  {
   "cell_type": "code",
   "execution_count": null,
   "id": "0ecee3ef",
   "metadata": {},
   "outputs": [],
   "source": []
  }
 ],
 "metadata": {
  "kernelspec": {
   "display_name": "Python 3 (ipykernel)",
   "language": "python",
   "name": "python3"
  },
  "language_info": {
   "codemirror_mode": {
    "name": "ipython",
    "version": 3
   },
   "file_extension": ".py",
   "mimetype": "text/x-python",
   "name": "python",
   "nbconvert_exporter": "python",
   "pygments_lexer": "ipython3",
   "version": "3.9.7"
  }
 },
 "nbformat": 4,
 "nbformat_minor": 5
}
