{
 "cells": [
  {
   "cell_type": "markdown",
   "id": "a516f1d3",
   "metadata": {},
   "source": [
    "# How to create an example Level 1 WFI science data file\n",
    "\n",
    "This notebook shows how to manually create an example Level 1 WFI ASDF file that is appropriate for input into the `romancal` calibration pipeline.\n",
    "\n",
    "There are several examples shown, using randomly generated data arrays, as well as one that creates a Level 1 file using data arrays pulled from an existing FITS file."
   ]
  },
  {
   "cell_type": "code",
   "execution_count": null,
   "id": "df1d12d5",
   "metadata": {},
   "outputs": [],
   "source": [
    "# make sure that you have these packages installed in your local environment\n",
    "import numpy as np\n",
    "import matplotlib\n",
    "from matplotlib import pylab as plt\n",
    "import asdf\n",
    "import astropy\n",
    "from astropy.time import Time\n",
    "from astropy.io import fits\n",
    "import roman_datamodels\n",
    "import roman_datamodels.stnode as rds\n",
    "\n",
    "# the following allows us to grab example data from an STScI box folder\n",
    "from astropy.utils.data import download_file\n",
    "box_path = 'https://data.science.stsci.edu/redirect/Roman/Roman_Calibration_And_Datamodels/'"
   ]
  },
  {
   "cell_type": "markdown",
   "id": "9ccd8088",
   "metadata": {},
   "source": [
    "### Files currently available in the box folder linked above include:\n",
    "\n",
    "|Filename|exposure type|Process Level|\n",
    "|:-|:-|:-|\n",
    "|r0000101001001001001_01101_0001_WFI01_uncal.asdf|WFI_IMAGE|Level 1|\n",
    "|r0000201001001001001_01101_0001_WFI01_uncal.asdf|WFI_IMAGE|Level 1|\n",
    "|r0000201001001001002_01101_0001_WFI10_uncal.asdf|WFI_GRISM|Level 1|\n",
    "|r0000201001001001003_01101_0001_WFI08_uncal.asdf|WFI_PRISM|Level 1|\n",
    "|r0000101001001001001_01101_0001_WFI01_cal.asdf|WFI_IMAGE|Level 2|\n",
    "|r0000201001001001001_01101_0001_WFI01_cal.asdf|WFI_IMAGE|Level 2|\n",
    "|r0000201001001001002_01101_0001_WFI10_cal.asdf|WFI_GRISM|Level 2|\n",
    "|r0000201001001001003_01101_0001_WFI08_cal.asdf|WFI_PRISM|Level 2|"
   ]
  },
  {
   "cell_type": "markdown",
   "id": "70d2ffd7",
   "metadata": {},
   "source": [
    "## Display versions of relevant packages for reference"
   ]
  },
  {
   "cell_type": "code",
   "execution_count": null,
   "id": "06198040",
   "metadata": {},
   "outputs": [],
   "source": [
    "print('Dependency Versions\\n-------------------')\n",
    "print(f'asdf: {asdf.__version__}')\n",
    "print(f'astropy: {astropy.__version__}')\n",
    "print(f'numpy: {np.__version__}')\n",
    "print(f'roman_datamodels: {roman_datamodels.__version__}')"
   ]
  },
  {
   "cell_type": "markdown",
   "id": "5d05f5ae",
   "metadata": {},
   "source": [
    "## Create an empty Level 1 datamodel\n",
    "\n",
    "The Roman data models will expect specific data and metadata, these can be seen and referenced in the datamodels and schemas:\n",
    "\n",
    "* [ScienceRawModel](https://github.com/spacetelescope/roman_datamodels/blob/main/src/roman_datamodels/datamodels.py#L290) is used as input to the science calibration pipeline, and represents a Level 1 file. With its associated [schema](https://github.com/spacetelescope/rad/blob/main/src/rad/resources/schemas/wfi_science_raw-1.0.0.yaml)\n",
    "\n",
    "* [ImageModel](https://github.com/spacetelescope/roman_datamodels/blob/main/src/roman_datamodels/datamodels.py#L286) will contain the collapsed and calibrated ramp for both imaging and spectroscopic modes, and represents a Level 2 file. With its associated [schema](https://github.com/spacetelescope/rad/blob/main/src/rad/resources/schemas/wfi_image-1.0.0.yaml)\n",
    "\n",
    "The level 1 datamodel expects that certain metadata are saved along with the data arrays. These can be seen referenced in the schema file for the Level 1 datamodel:\n",
    "<pre>\n",
    "%YAML 1.1\n",
    "---\n",
    "$schema: asdf://stsci.edu/datamodels/roman/schemas/rad_schema-1.0.0\n",
    "id: asdf://stsci.edu/datamodels/roman/schemas/wfi_science_raw-1.0.0\n",
    "\n",
    "title: |\n",
    "  The schema for WFI science data (both imaging and spectrographic)\n",
    "type: object\n",
    "properties:\n",
    "  meta:\n",
    "    allOf:\n",
    "      - $ref: common-1.0.0  <---- these are the expected metadata\n",
    "  data:\n",
    "    tag: tag:stsci.edu:asdf/core/ndarray-1.0.0\n",
    "    datatype: uint16\n",
    "    ndim: 3\n",
    "propertyOrder: [meta, data]\n",
    "flowStyle: block\n",
    "required: [meta, data]\n",
    "</pre>\n",
    "\n",
    "That \"common\" [metadata file](https://github.com/spacetelescope/rad/blob/main/src/rad/resources/schemas/common-1.0.0.yaml) contains the list of items and their types, and can reference schemas for each item as well, such as:\n",
    "<pre>\n",
    "https://github.com/spacetelescope/rad/blob/main/src/rad/resources/schemas/exposure_type-1.0.0.yaml\n",
    "\n",
    "which shows these included items:\n",
    "\n",
    "%YAML 1.1\n",
    "---\n",
    "$schema: asdf://stsci.edu/datamodels/roman/schemas/rad_schema-1.0.0\n",
    "id: asdf://stsci.edu/datamodels/roman/schemas/exposure_type-1.0.0\n",
    "\n",
    "# Helper file to enumerate viewing modes for exposure and ref_exposure\n",
    "\n",
    "type: string\n",
    "title: Type of data in the exposure (viewing mode)\n",
    "enum:\n",
    "  - WFI_IMAGE\n",
    "  - WFI_GRISM\n",
    "  - WFI_PRISM\n",
    "  - WFI_DARK\n",
    "  - WFI_FLAT\n",
    "  - WFI_WFSC\n",
    "...\n",
    "\n",
    "</pre>\n",
    "\n",
    "If there is an enumerated list, like shown above, then those are the possible values for the attribute (keyword)."
   ]
  },
  {
   "cell_type": "code",
   "execution_count": null,
   "id": "69d8bbef",
   "metadata": {},
   "outputs": [],
   "source": [
    "level1 = rds.WfiScienceRaw() # level 1 files are ramps"
   ]
  },
  {
   "cell_type": "code",
   "execution_count": null,
   "id": "44073022",
   "metadata": {},
   "outputs": [],
   "source": [
    "level2 = rds.WfiImage()  # just as an example, this would be level 2 output datamodel from the calibration pipeline"
   ]
  },
  {
   "cell_type": "markdown",
   "id": "343d669c",
   "metadata": {},
   "source": [
    "## Make a somewhat random science data array\n",
    "\n",
    "Remember that Level 1 data are still in 3D ramp form"
   ]
  },
  {
   "cell_type": "code",
   "execution_count": null,
   "id": "b2da7bba",
   "metadata": {},
   "outputs": [],
   "source": [
    "science_data_frame = np.random.randint(low=0, high=65536,size=((4096,4096)), dtype=np.uint16)"
   ]
  },
  {
   "cell_type": "code",
   "execution_count": null,
   "id": "ea31d6de",
   "metadata": {},
   "outputs": [],
   "source": [
    "science_data_frame"
   ]
  },
  {
   "cell_type": "code",
   "execution_count": null,
   "id": "b278592d",
   "metadata": {},
   "outputs": [],
   "source": [
    "plt.imshow(science_data_frame, origin=\"lower\")"
   ]
  },
  {
   "cell_type": "code",
   "execution_count": null,
   "id": "31e5536b",
   "metadata": {},
   "outputs": [],
   "source": [
    "# make a small 3D cube\n",
    "science_data_cube = np.array((science_data_frame, science_data_frame*2, science_data_frame*5))"
   ]
  },
  {
   "cell_type": "code",
   "execution_count": null,
   "id": "0b59317f",
   "metadata": {},
   "outputs": [],
   "source": [
    "np.shape(science_data_cube)"
   ]
  },
  {
   "cell_type": "code",
   "execution_count": null,
   "id": "bf176b2c",
   "metadata": {},
   "outputs": [],
   "source": [
    "meta = {'telescope': 'ROMAN'}\n",
    "meta['description'] = \"Example level 1 image mode ramp with random values\"\n",
    "meta['author'] = 'Willy Wonka'\n",
    "meta['origin'] = 'STSCI'"
   ]
  },
  {
   "cell_type": "markdown",
   "id": "11531197",
   "metadata": {},
   "source": [
    "### We can attempt to save this file using the minimal information that we have\n",
    "\n",
    "Validation errors should be returned since we dont have all the required metadata populated yet...and we also have schemas to validate against"
   ]
  },
  {
   "cell_type": "code",
   "execution_count": null,
   "id": "42e07da4",
   "metadata": {},
   "outputs": [],
   "source": [
    "# attach our metadata and science data to the model\n",
    "level1['meta'] = meta\n",
    "level1['data'] = science_data_cube"
   ]
  },
  {
   "cell_type": "code",
   "execution_count": null,
   "id": "8f729516",
   "metadata": {},
   "outputs": [],
   "source": [
    "af = asdf.AsdfFile()\n",
    "af.tree = {'roman': level1}\n",
    "af.write_to('level1_image_ramp.asdf')"
   ]
  },
  {
   "cell_type": "markdown",
   "id": "a0850c3f",
   "metadata": {},
   "source": [
    "### Let's add in the rest of the required information\n",
    "\n",
    "We'll cheat for now and pull it from the testing module for roman_datamodels.\n",
    "This code is an example of how to populate the objects, but should be used as a working reference only, and not the default call in production code. \n",
    "\n",
    "`roman_datamodels` is maintained at: https://github.com/spacetelescope/roman_datamodels/"
   ]
  },
  {
   "cell_type": "code",
   "execution_count": null,
   "id": "fc4451fa",
   "metadata": {},
   "outputs": [],
   "source": [
    "from roman_datamodels.testing import utils"
   ]
  },
  {
   "cell_type": "code",
   "execution_count": null,
   "id": "ebe1fee9",
   "metadata": {},
   "outputs": [],
   "source": [
    "common_meta = utils.mk_common_meta()\n",
    "common_meta  # show it, notice this isn't just dictionary of simple type information, it contains objects as well"
   ]
  },
  {
   "cell_type": "code",
   "execution_count": null,
   "id": "dca2ebb2",
   "metadata": {},
   "outputs": [],
   "source": [
    "common_meta['description'] = \"Example level 1 image mode ramp with random values\"\n",
    "common_meta['author'] = 'Willy Wonka'"
   ]
  },
  {
   "cell_type": "code",
   "execution_count": null,
   "id": "89cffe5c",
   "metadata": {},
   "outputs": [],
   "source": [
    "level1['meta'] = common_meta\n",
    "af.tree = {'roman': level1}\n",
    "af.write_to('level1_image_ramp.asdf')  # this time it should validate without issue"
   ]
  },
  {
   "cell_type": "markdown",
   "id": "6a599945",
   "metadata": {},
   "source": [
    "### The ASDF file that we wrote now contains the following information:\n",
    "\n",
    "<pre>\n",
    "#ASDF 1.0.0\n",
    "#ASDF_STANDARD 1.5.0\n",
    "%YAML 1.1\n",
    "%TAG ! tag:stsci.edu:asdf/\n",
    "--- !core/asdf-1.1.0\n",
    "asdf_library: !core/software-1.0.0 {author: The ASDF Developers, homepage: 'http://github.com/asdf-format/asdf',\n",
    "  name: asdf, version: 2.9.0.dev0}\n",
    "history:\n",
    "  extensions:\n",
    "  - !core/extension_metadata-1.0.0\n",
    "    extension_class: asdf.extension.BuiltinExtension\n",
    "    software: !core/software-1.0.0 {name: asdf, version: 2.9.0.dev0}\n",
    "  - !core/extension_metadata-1.0.0\n",
    "    extension_class: astropy.io.misc.asdf.extension.AstropyAsdfExtension\n",
    "    software: !core/software-1.0.0 {name: astropy, version: '4.2'}\n",
    "  - !core/extension_metadata-1.0.0\n",
    "    extension_class: asdf.extension._manifest.ManifestExtension\n",
    "    extension_uri: asdf://stsci.edu/datamodels/roman/extensions/datamodels-1.0\n",
    "    software: !core/software-1.0.0 {name: roman-datamodels, version: 0.8.1.dev1+g19040c6}\n",
    "roman: !<asdf://stsci.edu/datamodels/roman/tags/wfi_science_raw-1.0.0>\n",
    "  meta:\n",
    "    aperture: !<asdf://stsci.edu/datamodels/roman/tags/aperture-1.0.0>\n",
    "      name: dummy value\n",
    "      position_angle: 30.0\n",
    "      pss_name: dummy value\n",
    "    author: Willy Wonka\n",
    "    cal_step: !<asdf://stsci.edu/datamodels/roman/tags/cal_step-1.0.0>\n",
    "      assign_wcs: INCOMPLETE\n",
    "      flat_field: INCOMPLETE\n",
    "      dark: INCOMPLETE\n",
    "      dq_init: INCOMPLETE\n",
    "      jump: INCOMPLETE\n",
    "      linearity: INCOMPLETE\n",
    "      ramp_fit: INCOMPLETE\n",
    "      saturation: INCOMPLETE\n",
    "    calibration_software_version: 9.9.9\n",
    "    coordinates: !<asdf://stsci.edu/datamodels/roman/tags/coordinates-1.0.0>\n",
    "      reference_frame: ICRS\n",
    "    crds_context_used: '222'\n",
    "    crds_software_version: 8.8.8\n",
    "    description: Example level 1 image mode ramp with random values\n",
    "    ephemeris: !<asdf://stsci.edu/datamodels/roman/tags/ephemeris-1.0.0>\n",
    "      earth_angle: -999999\n",
    "      moon_angle: -999999\n",
    "      sun_angle: -999999\n",
    "      type: DEFINITIVE\n",
    "      time: -999999\n",
    "      ephemeris_reference_frame: dummy value\n",
    "      spatial_x: -999999\n",
    "      spatial_y: -999999\n",
    "      spatial_z: -999999\n",
    "      velocity_x: -999999\n",
    "      velocity_y: -999999\n",
    "      velocity_z: -999999\n",
    "    exposure: !<asdf://stsci.edu/datamodels/roman/tags/exposure-1.0.0>\n",
    "      id: -999999\n",
    "      type: WFI_IMAGE\n",
    "      start_time: !time/time-1.1.0 2020-01-01T00:00:00.000\n",
    "      mid_time: !time/time-1.1.0 2020-01-01T00:00:00.000\n",
    "      end_time: !time/time-1.1.0 2020-01-01T00:00:00.000\n",
    "      start_time_mjd: -999999\n",
    "      mid_time_mjd: -999999\n",
    "      end_time_mjd: -999999\n",
    "      start_time_tdb: -999999\n",
    "      mid_time_tdb: -999999\n",
    "      end_time_tdb: -999999\n",
    "      ngroups: -999999\n",
    "      nframes: -999999\n",
    "      data_problem: false\n",
    "      sca_number: -999999\n",
    "      gain_factor: -999999\n",
    "      integration_time: -999999\n",
    "      elapsed_exposure_time: -999999\n",
    "      frame_divisor: -999999\n",
    "      groupgap: -999999\n",
    "      frame_time: -999999\n",
    "      group_time: -999999\n",
    "      exposure_time: -999999\n",
    "      effective_exposure_time: -999999\n",
    "      duration: -999999\n",
    "      datamode: -999999\n",
    "      integration_end: -999999\n",
    "      integration_start: -999999\n",
    "      nints: -999999\n",
    "      nresets_at_start: -999999\n",
    "      nsamples: -999999\n",
    "      sample_time: -999999\n",
    "      start_time_eng: dummy value\n",
    "    file_date: !time/time-1.1.0 2020-01-01T00:00:00.000\n",
    "    filename: dummy value\n",
    "    guidestar: !<asdf://stsci.edu/datamodels/roman/tags/guidestar-1.0.0>\n",
    "      gw_start_time: !time/time-1.1.0 2020-01-01T00:00:00.000\n",
    "      gw_stop_time: !time/time-1.1.0 2020-01-01T00:00:00.000\n",
    "      gw_id: dummy value\n",
    "      gs_ra: -999999\n",
    "      gs_dec: -999999\n",
    "      gs_ura: -999999\n",
    "      gs_udec: -999999\n",
    "      gs_mag: -999999\n",
    "      gs_umag: -999999\n",
    "      gw_pcs_mode: dummy value\n",
    "      gw_function_start_time: !time/time-1.1.0 2020-01-01T00:00:00.000\n",
    "      gw_function_end_time: !time/time-1.1.0 2020-01-01T00:00:00.000\n",
    "      data_start: -999999\n",
    "      data_end: -999999\n",
    "      gw_acq_exec_stat: dummy value\n",
    "      gs_ctd_x: -999999\n",
    "      gs_ctd_y: -999999\n",
    "      gs_ctd_ux: -999999\n",
    "      gs_ctd_uy: -999999\n",
    "      gs_epoch: dummy value\n",
    "      gs_mura: -999999\n",
    "      gs_mudec: -999999\n",
    "      gs_para: -999999\n",
    "      gw_window_xstart: -999999\n",
    "      gw_window_ystart: -999999\n",
    "      gw_window_xsize: -999999\n",
    "      gw_window_ysize: -999999\n",
    "    instrument: !<asdf://stsci.edu/datamodels/roman/tags/wfi_mode-1.0.0>\n",
    "      detector: WFI01\n",
    "      optical_element: F062\n",
    "      name: WFI\n",
    "    model_type: dummy value\n",
    "    observation: !<asdf://stsci.edu/datamodels/roman/tags/observation-1.0.0>\n",
    "      start_time: !time/time-1.1.0 2020-01-01T00:00:00.000\n",
    "      end_time: !time/time-1.1.0 2020-01-01T00:00:00.000\n",
    "      obs_id: dummy value\n",
    "      visit_id: dummy value\n",
    "      program: -999999\n",
    "      execution_plan: -999999\n",
    "      pass: -999999\n",
    "      observation: -999999\n",
    "      segment: -999999\n",
    "      visit: -999999\n",
    "      visit_file_group: -999999\n",
    "      visit_file_sequence: -999999\n",
    "      visit_file_activity: dummy value\n",
    "      exposure: -999999\n",
    "      template: dummy value\n",
    "      observation_label: dummy value\n",
    "      ma_table_name: dummy value\n",
    "      survey: N/A\n",
    "      activity_id: dummy value\n",
    "    origin: STSCI\n",
    "    photometry: !<asdf://stsci.edu/datamodels/roman/tags/photometry-1.0.0>\n",
    "      conversion_microjanskys: -999999\n",
    "      conversion_megajanskys: -999999\n",
    "      pixelarea_steradians: -999999\n",
    "      pixelarea_arcsecsq: -999999\n",
    "    pointing: !<asdf://stsci.edu/datamodels/roman/tags/pointing-1.0.0>\n",
    "      ra_v1: -999999\n",
    "      dec_v1: -999999\n",
    "      pa_v3: -999999\n",
    "    prd_software_version: 8.8.8\n",
    "    program: !<asdf://stsci.edu/datamodels/roman/tags/program-1.0.0>\n",
    "      title: dummy value\n",
    "      pi_name: dummy value\n",
    "      category: dummy value\n",
    "      subcategory: dummy value\n",
    "      science_category: dummy value\n",
    "      continuation_id: -999999\n",
    "    sdf_software_version: 7.7.7\n",
    "    target: !<asdf://stsci.edu/datamodels/roman/tags/target-1.0.0>\n",
    "      proposer_name: dummy value\n",
    "      catalog_name: dummy value\n",
    "      type: FIXED\n",
    "      ra: -999999\n",
    "      dec: -999999\n",
    "      ra_uncertainty: -999999\n",
    "      dec_uncertainty: -999999\n",
    "      proper_motion_ra: -999999\n",
    "      proper_motion_dec: -999999\n",
    "      proper_motion_epoch: dummy value\n",
    "      proposer_ra: -999999\n",
    "      proposer_dec: -999999\n",
    "      source_type_apt: POINT\n",
    "      source_type: POINT\n",
    "    telescope: ROMAN\n",
    "    velocity_aberration: !<asdf://stsci.edu/datamodels/roman/tags/velocity_aberration-1.0.0>\n",
    "      ra_offset: -999999\n",
    "      dec_offset: -999999\n",
    "      scale_factor: -999999\n",
    "    visit: !<asdf://stsci.edu/datamodels/roman/tags/visit-1.0.0>\n",
    "      engineering_quality: OK\n",
    "      pointing_engdb_quality: CALCULATED\n",
    "      type: dummy value\n",
    "      start_time: !time/time-1.1.0 2020-01-01T00:00:00.000\n",
    "      end_time: !time/time-1.1.0 2020-01-01T00:00:00.000\n",
    "      status: dummy value\n",
    "      total_exposures: -999999\n",
    "      internal_target: false\n",
    "      target_of_opportunity: false\n",
    "    wcsinfo: !<asdf://stsci.edu/datamodels/roman/tags/wcsinfo-1.0.0>\n",
    "      v2_ref: -999999\n",
    "      v3_ref: -999999\n",
    "      vparity: -999999\n",
    "      v3yangle: -999999\n",
    "      ra_ref: -999999\n",
    "      dec_ref: -999999\n",
    "      roll_ref: -999999\n",
    "      s_region: dummy value\n",
    "  data: !core/ndarray-1.0.0\n",
    "    source: 0\n",
    "    datatype: uint16\n",
    "    byteorder: little\n",
    "    shape: [3, 4096, 4096]\n",
    "...\n",
    "    </pre>"
   ]
  },
  {
   "cell_type": "markdown",
   "id": "fb6b3dd2",
   "metadata": {},
   "source": [
    "## Read in an example data array from a FITS file\n",
    "\n",
    "Obviously the NICMOS data isn't the same expected size as the WFI data that we expect. \n",
    "We do expect to create level 1 files that are smaller, for example, the guide window arrays.\n",
    "\n",
    "The following is meant as a simple example showing how to read a fits file and move the data arrays over to the roman datamodel for saving.\n",
    "Validation on the datamodel and within the roman calibration code should take care of mismatches."
   ]
  },
  {
   "cell_type": "code",
   "execution_count": null,
   "id": "d3f8d971",
   "metadata": {},
   "outputs": [],
   "source": [
    "# Edit these lines if you dont want to download the example nicmos data from the box location\n",
    "test_file='iacs01t4q_raw.fits'\n",
    "nicmos_image = download_file(box_path + test_file)\n",
    "fits_image=fits.open(nicmos_image)"
   ]
  },
  {
   "cell_type": "code",
   "execution_count": null,
   "id": "17d9a8f0",
   "metadata": {},
   "outputs": [],
   "source": [
    "fits_image.info()"
   ]
  },
  {
   "cell_type": "code",
   "execution_count": null,
   "id": "32cc939a",
   "metadata": {},
   "outputs": [],
   "source": [
    "fits_science_cube = np.array((fits_image['sci',11].data, fits_image['sci',10].data, fits_image['sci',9].data, fits_image['sci',8].data, fits_image['sci',1].data))"
   ]
  },
  {
   "cell_type": "code",
   "execution_count": null,
   "id": "4ad7dd0a",
   "metadata": {},
   "outputs": [],
   "source": [
    "level1['data'] = fits_science_cube  # if you were doing this for real, you'd want to make sure the metadata was updated to reflect appropriate information for the data arrays you just used"
   ]
  },
  {
   "cell_type": "code",
   "execution_count": null,
   "id": "54d9ccb8",
   "metadata": {},
   "outputs": [],
   "source": [
    "common_meta['description'] = 'Level 1 WFI image ramp made from nicmos data'\n",
    "level1['meta'] = common_meta\n",
    "af.tree = {'roman': level1}\n",
    "af.write_to('level1_image_ramp_from_nicmos.asdf')"
   ]
  },
  {
   "cell_type": "code",
   "execution_count": null,
   "id": "41074c85",
   "metadata": {},
   "outputs": [],
   "source": [
    "fits_image.close()"
   ]
  },
  {
   "cell_type": "markdown",
   "id": "1db2758e",
   "metadata": {},
   "source": [
    "### We can read this data back in using the datamodel"
   ]
  },
  {
   "cell_type": "code",
   "execution_count": null,
   "id": "f4dce6df",
   "metadata": {},
   "outputs": [],
   "source": [
    "level1_image_ramp = roman_datamodels.open('level1_image_ramp_from_nicmos.asdf')\n",
    "level1_image_ramp.data  # the science data array we saved is represented here"
   ]
  },
  {
   "cell_type": "code",
   "execution_count": null,
   "id": "4e72f6a8",
   "metadata": {},
   "outputs": [],
   "source": [
    "fig = plt.figure(figsize=(10, 30))\n",
    "fig.add_subplot(1,5,1)\n",
    "plt.imshow(level1_image_ramp.data[0], origin=\"lower\")\n",
    "fig.add_subplot(1,5,2)\n",
    "plt.imshow(level1_image_ramp.data[1], origin=\"lower\")\n",
    "fig.add_subplot(1,5,3)\n",
    "plt.imshow(level1_image_ramp.data[2], origin=\"lower\")\n",
    "fig.add_subplot(1,5,4)\n",
    "plt.imshow(level1_image_ramp.data[3], origin=\"lower\")\n",
    "fig.add_subplot(1,5,5)\n",
    "plt.imshow(level1_image_ramp.data[4], origin=\"lower\")"
   ]
  },
  {
   "cell_type": "markdown",
   "id": "434eb8f7",
   "metadata": {},
   "source": [
    "## Open an example Roman file with reasonably populated metadata"
   ]
  },
  {
   "cell_type": "code",
   "execution_count": null,
   "id": "e9405886",
   "metadata": {},
   "outputs": [],
   "source": [
    "# grab the example prism data file from the box folder or read it locally\n",
    "roman_example_L1 = box_path + 'r0000201001001001002_01101_0001_WFI10_uncal.asdf'\n",
    "filepath = download_file(roman_example_L1)\n",
    "#filepath ='r0000201001001001002_01101_0001_WFI10_uncal.asdf' "
   ]
  },
  {
   "cell_type": "code",
   "execution_count": null,
   "id": "904d161b",
   "metadata": {},
   "outputs": [],
   "source": [
    "example_data=roman_datamodels.open(filepath)"
   ]
  },
  {
   "cell_type": "markdown",
   "id": "97262742",
   "metadata": {},
   "source": [
    "#### The object information can be returned as needed"
   ]
  },
  {
   "cell_type": "code",
   "execution_count": null,
   "id": "9996f3ba",
   "metadata": {},
   "outputs": [],
   "source": [
    "example_data.meta.exposure.type"
   ]
  },
  {
   "cell_type": "code",
   "execution_count": null,
   "id": "889f5dde",
   "metadata": {},
   "outputs": [],
   "source": [
    "np.shape(example_data.data)"
   ]
  },
  {
   "cell_type": "markdown",
   "id": "7daf645c",
   "metadata": {},
   "source": [
    "#### Or you can get a quick summary"
   ]
  },
  {
   "cell_type": "code",
   "execution_count": null,
   "id": "a2679a8d",
   "metadata": {},
   "outputs": [],
   "source": [
    "example_data.to_flat_dict()"
   ]
  },
  {
   "cell_type": "code",
   "execution_count": null,
   "id": "fab10975",
   "metadata": {},
   "outputs": [],
   "source": [
    "fig = plt.figure(figsize=(10, 5))\n",
    "fig.add_subplot(1,3,1)\n",
    "plt.imshow(example_data.data[0], origin=\"lower\")\n",
    "fig.add_subplot(1,3,2)\n",
    "plt.imshow(example_data.data[3], origin=\"lower\")\n",
    "fig.add_subplot(1,3,3)\n",
    "plt.imshow(example_data.data[7], origin=\"lower\")"
   ]
  },
  {
   "cell_type": "markdown",
   "id": "7dd639dd",
   "metadata": {},
   "source": [
    "If you just downloded a file from Box, it is likely stored in a local temp folder, use the command below to save it to the current working directory if you like"
   ]
  },
  {
   "cell_type": "code",
   "execution_count": null,
   "id": "269ed786",
   "metadata": {},
   "outputs": [],
   "source": [
    "example_data.save('example_roman_grism_data.asdf')"
   ]
  },
  {
   "cell_type": "markdown",
   "id": "bd2e2c1d",
   "metadata": {},
   "source": [
    "### Once the Level 1 file runs through calibration, a Level 2 file is produced that looks something like this.\n",
    "Another notebook will show an example of running the Level 2 calibration pipeline on Level 1 data"
   ]
  },
  {
   "cell_type": "code",
   "execution_count": null,
   "id": "807bfda0",
   "metadata": {},
   "outputs": [],
   "source": [
    "level_2_example = 'r0000201001001001002_01101_0001_WFI10_cal.asdf'\n",
    "#download the example file as needed\n",
    "#roman_example_L2 = box_path + level_2_example\n",
    "#level_2_example = download_file(roman_example_L1)\n"
   ]
  },
  {
   "cell_type": "code",
   "execution_count": null,
   "id": "f72b6141",
   "metadata": {},
   "outputs": [],
   "source": [
    "level2 =roman_datamodels.open(level_2_example)"
   ]
  },
  {
   "cell_type": "code",
   "execution_count": null,
   "id": "f3f1bb13",
   "metadata": {},
   "outputs": [],
   "source": [
    "level2  #this is just to show the ImageModel return instead of the Level 1 ScienceRawModel"
   ]
  },
  {
   "cell_type": "markdown",
   "id": "73ce4780",
   "metadata": {},
   "source": [
    "### Quickly looking at the file shows that some of the calibration steps have been run"
   ]
  },
  {
   "cell_type": "code",
   "execution_count": null,
   "id": "c88c0653",
   "metadata": {},
   "outputs": [],
   "source": [
    "level2.to_flat_dict()"
   ]
  },
  {
   "cell_type": "code",
   "execution_count": null,
   "id": "348a5467",
   "metadata": {},
   "outputs": [],
   "source": [
    "level2.meta.wcsinfo  #basic wcs information is currently avaialable in the file"
   ]
  },
  {
   "cell_type": "code",
   "execution_count": null,
   "id": "4adfdf01",
   "metadata": {},
   "outputs": [],
   "source": []
  }
 ],
 "metadata": {
  "kernelspec": {
   "display_name": "Python 3 (ipykernel)",
   "language": "python",
   "name": "python3"
  },
  "language_info": {
   "codemirror_mode": {
    "name": "ipython",
    "version": 3
   },
   "file_extension": ".py",
   "mimetype": "text/x-python",
   "name": "python",
   "nbconvert_exporter": "python",
   "pygments_lexer": "ipython3",
   "version": "3.7.10"
  }
 },
 "nbformat": 4,
 "nbformat_minor": 5
}
